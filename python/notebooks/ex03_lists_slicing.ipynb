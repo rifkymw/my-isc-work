{
 "cells": [
  {
   "cell_type": "markdown",
   "metadata": {},
   "source": [
    "# Exercise 3: Lists and Slicing"
   ]
  },
  {
   "cell_type": "markdown",
   "metadata": {},
   "source": [
    "## Aim: Introduce lists and their methods.\n",
    "\n",
    "### Issues covered:\n",
    " - Creating a list\n",
    " - Indexing and slicing lists\n",
    " - Using methods on lists\n",
    " - Using built-in `dir()` and `help()` functions to interrogate objects\n",
    " - Reading from standard input"
   ]
  },
  {
   "cell_type": "markdown",
   "metadata": {},
   "source": [
    "## 1. Let's create a simple list and play with it."
   ]
  },
  {
   "cell_type": "markdown",
   "metadata": {},
   "source": [
    "Create a list `x` containing integers: `1, 2, 3, 4, 5`"
   ]
  },
  {
   "cell_type": "code",
   "execution_count": 1,
   "metadata": {},
   "outputs": [],
   "source": [
    "x = [1,2,3,4,5]"
   ]
  },
  {
   "cell_type": "markdown",
   "metadata": {},
   "source": [
    "Use list indexing to select the second item in the list."
   ]
  },
  {
   "cell_type": "code",
   "execution_count": 2,
   "metadata": {},
   "outputs": [
    {
     "name": "stdout",
     "output_type": "stream",
     "text": [
      "2\n"
     ]
    }
   ],
   "source": [
    "print(x[1])"
   ]
  },
  {
   "cell_type": "markdown",
   "metadata": {},
   "source": [
    "Use list indexing to select the second to last item in the list."
   ]
  },
  {
   "cell_type": "code",
   "execution_count": 4,
   "metadata": {},
   "outputs": [
    {
     "name": "stdout",
     "output_type": "stream",
     "text": [
      "4\n"
     ]
    }
   ],
   "source": [
    "print(x[-2])"
   ]
  },
  {
   "cell_type": "markdown",
   "metadata": {},
   "source": [
    "Use list slicing to select the whole list."
   ]
  },
  {
   "cell_type": "code",
   "execution_count": 49,
   "metadata": {},
   "outputs": [
    {
     "name": "stdout",
     "output_type": "stream",
     "text": [
      "[1, 2, 3, 4, 5]\n"
     ]
    }
   ],
   "source": [
    "print(x[:])"
   ]
  },
  {
   "cell_type": "markdown",
   "metadata": {},
   "source": [
    "Use list slicing to select the second to the fourth item (inclusive) in the list."
   ]
  },
  {
   "cell_type": "code",
   "execution_count": 9,
   "metadata": {},
   "outputs": [
    {
     "name": "stdout",
     "output_type": "stream",
     "text": [
      "[2, 3, 4]\n"
     ]
    }
   ],
   "source": [
    "print(x[1:4])"
   ]
  },
  {
   "cell_type": "markdown",
   "metadata": {},
   "source": [
    "## 2. Let's create a list from a range and play with it."
   ]
  },
  {
   "cell_type": "markdown",
   "metadata": {},
   "source": [
    "Create a list `y` with values from `1` to `10` (use the `range()` function)."
   ]
  },
  {
   "cell_type": "code",
   "execution_count": 17,
   "metadata": {},
   "outputs": [
    {
     "name": "stdout",
     "output_type": "stream",
     "text": [
      "[1, 2, 3, 4, 5, 6, 7, 8, 9]\n"
     ]
    }
   ],
   "source": [
    "y = list(range(1,10,1))\n",
    "print(y)"
   ]
  },
  {
   "cell_type": "markdown",
   "metadata": {},
   "source": [
    "Replace the first item in the list with the value `10`."
   ]
  },
  {
   "cell_type": "code",
   "execution_count": 20,
   "metadata": {},
   "outputs": [
    {
     "name": "stdout",
     "output_type": "stream",
     "text": [
      "[10, 2, 3, 4, 5, 6, 7, 8, 9]\n"
     ]
    }
   ],
   "source": [
    "y[0]= 10\n",
    "print(y)"
   ]
  },
  {
   "cell_type": "markdown",
   "metadata": {},
   "source": [
    "Append the number `11` to the list."
   ]
  },
  {
   "cell_type": "code",
   "execution_count": 22,
   "metadata": {},
   "outputs": [
    {
     "name": "stdout",
     "output_type": "stream",
     "text": [
      "[10, 2, 3, 4, 5, 6, 7, 8, 9, 11, 11]\n"
     ]
    }
   ],
   "source": [
    "y.append(11)\n",
    "print(y)"
   ]
  },
  {
   "cell_type": "markdown",
   "metadata": {},
   "source": [
    "Add another list `([12, 13, 14])` to the list using the `extend` method."
   ]
  },
  {
   "cell_type": "code",
   "execution_count": 24,
   "metadata": {},
   "outputs": [
    {
     "name": "stdout",
     "output_type": "stream",
     "text": [
      "[10, 2, 3, 4, 5, 6, 7, 8, 9, 11, 11, 12, 13, 14, 12, 13, 14]\n"
     ]
    }
   ],
   "source": [
    "y.extend([12, 13, 14])\n",
    "print(y)"
   ]
  },
  {
   "cell_type": "markdown",
   "metadata": {},
   "source": [
    "## 3. Let’s combine lists and loops and explore some list methods."
   ]
  },
  {
   "cell_type": "markdown",
   "metadata": {},
   "source": [
    "Create two empty lists called `forward` and `backward`."
   ]
  },
  {
   "cell_type": "code",
   "execution_count": 25,
   "metadata": {},
   "outputs": [],
   "source": [
    "forward = list()\n",
    "backward = list()"
   ]
  },
  {
   "cell_type": "markdown",
   "metadata": {},
   "source": [
    "Create a variable called `values` and assign it the list: `[\"a\", \"b\", \"c\"]`"
   ]
  },
  {
   "cell_type": "code",
   "execution_count": 26,
   "metadata": {},
   "outputs": [],
   "source": [
    "values = [\"a\", \"b\", \"c\"]"
   ]
  },
  {
   "cell_type": "markdown",
   "metadata": {},
   "source": [
    "Create a `for` block to loop over each item in \"values\".\n",
    "Inside the loop: \n",
    "\n",
    " - Append each value to the list called `forward`.\n",
    " - Insert the same value to the front of the list called `backward`.\n",
    "\n",
    "On exiting the loop print the values of `forward` and `backward`."
   ]
  },
  {
   "cell_type": "code",
   "execution_count": 40,
   "metadata": {},
   "outputs": [
    {
     "name": "stdout",
     "output_type": "stream",
     "text": [
      "['a', 'b', 'c']\n",
      "['c', 'b', 'a']\n"
     ]
    }
   ],
   "source": [
    "for i in values: #for every item (i) in values\n",
    "    forward.append(i) #insert it to the list forward\n",
    "    #forward.clear()\n",
    "    #backward.clear()\n",
    "    backward.insert(0,i) #why 0?\n",
    "    \n",
    "print(forward)\n",
    "print(backward)\n",
    "    \n",
    "    "
   ]
  },
  {
   "cell_type": "markdown",
   "metadata": {},
   "source": [
    "Reverse the order of `forward`."
   ]
  },
  {
   "cell_type": "code",
   "execution_count": 47,
   "metadata": {},
   "outputs": [
    {
     "name": "stdout",
     "output_type": "stream",
     "text": [
      "['c', 'b', 'a']\n"
     ]
    }
   ],
   "source": [
    "for i in values: #for every item (i) in values\n",
    "    forward.reverse() #reverse the order of the items using reverse()\n",
    "#forward = forward[::-1]\n",
    "print(forward)"
   ]
  },
  {
   "cell_type": "code",
   "execution_count": 51,
   "metadata": {},
   "outputs": [
    {
     "name": "stdout",
     "output_type": "stream",
     "text": [
      "['c', 'b', 'a']\n"
     ]
    }
   ],
   "source": [
    "forward = forward[::-1]\n",
    "print(forward)"
   ]
  },
  {
   "cell_type": "markdown",
   "metadata": {},
   "source": [
    "Check that `forward` and `backward` are the same."
   ]
  },
  {
   "cell_type": "code",
   "execution_count": 48,
   "metadata": {},
   "outputs": [
    {
     "data": {
      "text/plain": [
       "True"
      ]
     },
     "execution_count": 48,
     "metadata": {},
     "output_type": "execute_result"
    }
   ],
   "source": [
    "forward == backward"
   ]
  },
  {
   "cell_type": "markdown",
   "metadata": {},
   "source": [
    "## 4. Let's find out what else you can do with a list."
   ]
  },
  {
   "cell_type": "markdown",
   "metadata": {},
   "source": [
    "Create a list named `countries` as follows: `[\"uk\", \"usa\", \"uk\", \"uae\"]`"
   ]
  },
  {
   "cell_type": "code",
   "execution_count": 52,
   "metadata": {},
   "outputs": [],
   "source": [
    "countries = [\"uk\", \"usa\", \"uk\", \"uae\"]"
   ]
  },
  {
   "cell_type": "markdown",
   "metadata": {},
   "source": [
    "Use `dir(countries)` to display the properties and methods of the list."
   ]
  },
  {
   "cell_type": "code",
   "execution_count": 53,
   "metadata": {},
   "outputs": [
    {
     "data": {
      "text/plain": [
       "['__add__',\n",
       " '__class__',\n",
       " '__contains__',\n",
       " '__delattr__',\n",
       " '__delitem__',\n",
       " '__dir__',\n",
       " '__doc__',\n",
       " '__eq__',\n",
       " '__format__',\n",
       " '__ge__',\n",
       " '__getattribute__',\n",
       " '__getitem__',\n",
       " '__gt__',\n",
       " '__hash__',\n",
       " '__iadd__',\n",
       " '__imul__',\n",
       " '__init__',\n",
       " '__init_subclass__',\n",
       " '__iter__',\n",
       " '__le__',\n",
       " '__len__',\n",
       " '__lt__',\n",
       " '__mul__',\n",
       " '__ne__',\n",
       " '__new__',\n",
       " '__reduce__',\n",
       " '__reduce_ex__',\n",
       " '__repr__',\n",
       " '__reversed__',\n",
       " '__rmul__',\n",
       " '__setattr__',\n",
       " '__setitem__',\n",
       " '__sizeof__',\n",
       " '__str__',\n",
       " '__subclasshook__',\n",
       " 'append',\n",
       " 'clear',\n",
       " 'copy',\n",
       " 'count',\n",
       " 'extend',\n",
       " 'index',\n",
       " 'insert',\n",
       " 'pop',\n",
       " 'remove',\n",
       " 'reverse',\n",
       " 'sort']"
      ]
     },
     "execution_count": 53,
     "metadata": {},
     "output_type": "execute_result"
    }
   ],
   "source": [
    "dir(countries)"
   ]
  },
  {
   "cell_type": "markdown",
   "metadata": {},
   "source": [
    "Print the documentation on the `count` method of the list using `help(countries.count)`."
   ]
  },
  {
   "cell_type": "code",
   "execution_count": 54,
   "metadata": {},
   "outputs": [
    {
     "name": "stdout",
     "output_type": "stream",
     "text": [
      "Help on built-in function count:\n",
      "\n",
      "count(value, /) method of builtins.list instance\n",
      "    Return number of occurrences of value.\n",
      "\n"
     ]
    }
   ],
   "source": [
    "help(countries.count)"
   ]
  },
  {
   "cell_type": "markdown",
   "metadata": {},
   "source": [
    "Now use that method to count the number of times `\"uk\"` appears in the list `countries`."
   ]
  },
  {
   "cell_type": "code",
   "execution_count": 55,
   "metadata": {},
   "outputs": [
    {
     "data": {
      "text/plain": [
       "2"
      ]
     },
     "execution_count": 55,
     "metadata": {},
     "output_type": "execute_result"
    }
   ],
   "source": [
    "countries.count('uk')"
   ]
  },
  {
   "cell_type": "code",
   "execution_count": null,
   "metadata": {},
   "outputs": [],
   "source": [
    "[3]\n",
    "\n",
    "nums\n",
    "\n",
    "[3]\n",
    "\n",
    "nums.pop()\n",
    "\n",
    "3\n",
    "\n",
    "nums = [1,2,3]\n",
    "\n",
    "x = reversed(nums)\n",
    "\n",
    "print(x)\n",
    "\n",
    "<list_reverseiterator object at 0x7ff340423dc0>\n",
    "\n",
    "x = list(reversed(nums))\n",
    "\n",
    "print(x)\n",
    "\n",
    "[3, 2, 1]\n",
    "\n",
    "rnums = nums[:]\n",
    "\n",
    "rnums.reverse()\n",
    "\n",
    "print(rnums)\n",
    "\n",
    "[3, 2, 1]\n",
    "\n",
    "mylist =['a', 'b', 'c', 'd']\n",
    "\n",
    "mylist[3]='D'\n",
    "\n",
    "print(mylist)\n",
    "\n",
    "['a', 'b', 'c', 'D']\n",
    "\n",
    "mylist[2:100]\n",
    "\n",
    "['c', 'D']\n",
    "\n",
    "mylist[1:3]\n",
    "\n",
    "['b', 'c']\n",
    "\n",
    "x = 3\n",
    "\n",
    "while x>0:\n",
    "\n",
    "    print(x)\n",
    "\n",
    "    x -= 1\n",
    "\n",
    "3\n",
    "2\n",
    "1\n",
    "\n",
    "for letter in mylist:\n",
    "\n",
    "    print('hello ', letter)\n",
    "\n",
    "hello  a\n",
    "hello  b\n",
    "hello  c\n",
    "hello  D\n",
    "\n",
    "for (i,letter) in enumerate(mylist):\n",
    "\n",
    "    print('index: ',i,' and value: ', letter)\n",
    "\n",
    "index:  0  and value:  a\n",
    "index:  1  and value:  b\n",
    "index:  2  and value:  c\n",
    "index:  3  and value:  D\n",
    "\n",
    "for (i,letter) in enumerate(mylist):\n",
    "\n",
    "    print(f'index: {i} and value:{letter})\n",
    "\n",
    "  File \"/tmp/ipykernel_10869/3915781857.py\", line 2\n",
    "    print(f'index: {i} and value:{letter})\n",
    "                                          ^\n",
    "SyntaxError: EOL while scanning string literal\n",
    "\n",
    "for (i,letter) in enumerate(mylist):\n",
    "\n",
    "    print(f'index: {i} and value:{letter}')\n",
    "\n",
    "index: 0 and value:a\n",
    "index: 1 and value:b\n",
    "index: 2 and value:c\n",
    "index: 3 and value:d\n",
    "          \n",
    "s = list(range(5))\n",
    "\n",
    "print(s)\n",
    "\n",
    "[0, 1, 2, 3, 4]\n"
   ]
  }
 ],
 "metadata": {
  "kernelspec": {
   "display_name": "Python 3 + Jaspy",
   "language": "python",
   "name": "jaspy"
  },
  "language_info": {
   "codemirror_mode": {
    "name": "ipython",
    "version": 3
   },
   "file_extension": ".py",
   "mimetype": "text/x-python",
   "name": "python",
   "nbconvert_exporter": "python",
   "pygments_lexer": "ipython3",
   "version": "3.8.12"
  }
 },
 "nbformat": 4,
 "nbformat_minor": 4
}
